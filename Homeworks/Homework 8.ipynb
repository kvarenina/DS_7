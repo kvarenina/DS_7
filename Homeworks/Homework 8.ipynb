{
 "cells": [
  {
   "cell_type": "markdown",
   "id": "e1f12a79",
   "metadata": {},
   "source": [
    "**Завдання 1**\n",
    "Зробіть рефакторинг наступної програми (тобто використайте list comprehension і елементи функціонального програмування (map, filter)) "
   ]
  },
  {
   "cell_type": "code",
   "execution_count": 1,
   "id": "9f41d5fb",
   "metadata": {},
   "outputs": [
    {
     "name": "stdout",
     "output_type": "stream",
     "text": [
      "[0.6833954637245987, 2.7461459467230167, 4.496847570770706, 6.369560352415976, 8.542906310286696]\n"
     ]
    }
   ],
   "source": [
    "import random\n",
    "\n",
    "list_with_numbers = list(range(10))\n",
    "new_list = []\n",
    "\n",
    "for i in list_with_numbers:\n",
    "    if not i%2:\n",
    "        new_list.append(i + random.random())\n",
    "  \n",
    "print(new_list)"
   ]
  },
  {
   "cell_type": "code",
   "execution_count": 2,
   "id": "4c3aa7ae",
   "metadata": {},
   "outputs": [
    {
     "name": "stdout",
     "output_type": "stream",
     "text": [
      "<map object at 0x00000224E9DAC3D0>\n"
     ]
    }
   ],
   "source": [
    "#map\n",
    "\n",
    "new_list = map((lambda x: i + random.random() for i in list_with_numbers  if not i%2) , list_with_numbers)\n",
    "\n",
    "#filter\n",
    "\n",
    "print(new_list)"
   ]
  },
  {
   "cell_type": "code",
   "execution_count": 3,
   "id": "499324d7",
   "metadata": {},
   "outputs": [
    {
     "data": {
      "text/plain": [
       "[1.841733417367905,\n",
       " 3.9156101712126703,\n",
       " 5.601873873016719,\n",
       " 7.5082153634439415,\n",
       " 9.70923748065435]"
      ]
     },
     "execution_count": 3,
     "metadata": {},
     "output_type": "execute_result"
    }
   ],
   "source": [
    "#list_comprehension\n",
    "\n",
    "new_list = [i + random.random() for i in list_with_numbers if i%2 != 0]\n",
    "\n",
    "new_list"
   ]
  },
  {
   "cell_type": "markdown",
   "id": "53fa73fc",
   "metadata": {},
   "source": [
    "**Завдання 2**\n",
    "Зробіть рефакторинг наступної програми (тобто використайте list comprehension і елементи функціонального програмування (map, filter)) "
   ]
  },
  {
   "cell_type": "code",
   "execution_count": 4,
   "id": "edd5ed95",
   "metadata": {},
   "outputs": [
    {
     "name": "stdout",
     "output_type": "stream",
     "text": [
      "['I', 'am', 'Python', 'senior', 'pomidor']\n"
     ]
    }
   ],
   "source": [
    "import string\n",
    "\n",
    "sentence = \"I am @ Python @ senior ^ pomidor\"\n",
    "\n",
    "list_with_words = sentence.split()\n",
    "new_list = []\n",
    "\n",
    "for word in list_with_words:\n",
    "    if not word in string.punctuation:\n",
    "        new_list.append(word)\n",
    "\n",
    "print(new_list)"
   ]
  },
  {
   "cell_type": "code",
   "execution_count": 5,
   "id": "5ecb0e14",
   "metadata": {},
   "outputs": [
    {
     "name": "stdout",
     "output_type": "stream",
     "text": [
      "['I', 'am', 'Python', 'senior', 'pomidor']\n"
     ]
    }
   ],
   "source": [
    "#list_comprehension\n",
    "new_list = [word for word in list_with_words if word not in string.punctuation]\n",
    "print(new_list)"
   ]
  },
  {
   "cell_type": "code",
   "execution_count": 6,
   "id": "4af92031",
   "metadata": {},
   "outputs": [
    {
     "ename": "SyntaxError",
     "evalue": "invalid syntax (<ipython-input-6-0fee5caa7e9a>, line 1)",
     "output_type": "error",
     "traceback": [
      "\u001b[1;36m  File \u001b[1;32m\"<ipython-input-6-0fee5caa7e9a>\"\u001b[1;36m, line \u001b[1;32m1\u001b[0m\n\u001b[1;33m    new_list = filter(lambda x: if word not in string.punctuation, list_with_words)\u001b[0m\n\u001b[1;37m                                ^\u001b[0m\n\u001b[1;31mSyntaxError\u001b[0m\u001b[1;31m:\u001b[0m invalid syntax\n"
     ]
    }
   ],
   "source": [
    "new_list = filter(lambda x: if word not in string.punctuation, list_with_words)"
   ]
  },
  {
   "cell_type": "markdown",
   "id": "d2a91518",
   "metadata": {},
   "source": [
    "**Завдання 3**  \n",
    "\tДано деякий список [(1,1,1), (1,2,3), (-1,-1,7), (-3,-2,8), (0,0,0), (3,-4,-5)]  \n",
    "\t\t- відсортуйте даний список по сумі кортежів  \n",
    "\t\t- відсортуйте даний список по третіх елементах з кортежів"
   ]
  },
  {
   "cell_type": "code",
   "execution_count": 9,
   "id": "7d3ed083",
   "metadata": {},
   "outputs": [
    {
     "name": "stdout",
     "output_type": "stream",
     "text": [
      "[3, 6, 5, 3, 0, -6]\n",
      "[-6, 0, 3, 3, 5, 6]\n"
     ]
    }
   ],
   "source": [
    "#по сумі кортежів\n",
    "some_list = [(1,1,1), (1,2,3), (-1,-1,7), (-3,-2,8), (0,0,0), (3,-4,-5)]\n",
    "\n",
    "sum_list = [sum(i) for i in some_list]\n",
    "\n",
    "print(sum_list)\n",
    "print(sorted(sum_list))"
   ]
  },
  {
   "cell_type": "code",
   "execution_count": 26,
   "id": "8034ad3a",
   "metadata": {},
   "outputs": [
    {
     "name": "stdout",
     "output_type": "stream",
     "text": [
      "[1, 3, 7, 8, 0, -5]\n"
     ]
    },
    {
     "data": {
      "text/plain": [
       "14"
      ]
     },
     "execution_count": 26,
     "metadata": {},
     "output_type": "execute_result"
    }
   ],
   "source": [
    "#по третіх елементах з кортежів\n",
    "index_sort = sum(i[2] for i in some_list)\n",
    "\n",
    "print([i[2] for i in some_list])\n",
    "\n",
    "index_sort"
   ]
  },
  {
   "cell_type": "markdown",
   "id": "12cb0669",
   "metadata": {},
   "source": [
    "**Завдання 4**  \n",
    "\tДано словник {'b':3, 'c':2, 'a':4, 'd':1}  \n",
    "\t\t- виведіть ключі даного словника в алфавітному порядку  \n",
    "\t\t- виедіть ключі даного словника в порядку спадання по значеннях "
   ]
  },
  {
   "cell_type": "code",
   "execution_count": 57,
   "id": "df28f3e6",
   "metadata": {},
   "outputs": [
    {
     "name": "stdout",
     "output_type": "stream",
     "text": [
      "['a', 'b', 'c', 'd']\n",
      "[('d', 1), ('c', 2), ('b', 3), ('a', 4)]\n"
     ]
    }
   ],
   "source": [
    "dic = {'b':3, 'c':2, 'a':4, 'd':1}\n",
    "\n",
    "a = sorted(dic.keys())\n",
    "print(a)\n",
    "\n",
    "b = sorted(dic.items(), key=lambda x: x[1])\n",
    "print(b)"
   ]
  },
  {
   "cell_type": "markdown",
   "id": "572de472",
   "metadata": {},
   "source": [
    "Завдання 5\n",
    "\tНапишіть функцію-генератор яка буде повертати літери алфавіту. \n",
    "\t(Щоб отримати алфавіт - використайте ascii_lowercase в бібліотеці string)"
   ]
  },
  {
   "cell_type": "code",
   "execution_count": null,
   "id": "577ecd92",
   "metadata": {},
   "outputs": [],
   "source": []
  },
  {
   "cell_type": "markdown",
   "id": "fa3d2b08",
   "metadata": {},
   "source": [
    "\n",
    "Завдання 6\n",
    "\tНапишіть декоратор, що модифікує функцію таким чином, що результат її виконання повертається у форматі json"
   ]
  },
  {
   "cell_type": "code",
   "execution_count": 88,
   "id": "224c4f78",
   "metadata": {},
   "outputs": [
    {
     "name": "stdout",
     "output_type": "stream",
     "text": [
      " Годин в подорожі: 93.0\n",
      " Середня швидкість: 50\n",
      " Загальний шлях: 4619.0\n"
     ]
    }
   ],
   "source": [
    "# Знайдіть відстань (в км) яку проїхав автомобіліст. \n",
    "# У вас є інформація про середню швидкість (км/год) у місяці та час(хв) в дорозі.\n",
    "\n",
    "\n",
    "speed  ={'jan':47, 'feb':52, 'march':47, 'April':44, 'May':52, 'June':53,\n",
    "          'july':54, 'Aug':44, 'Sept':54} \n",
    "time  ={'jan':300, 'feb':700 , 'march':900, 'April':1200, 'May':600, 'June':700,\n",
    "          'july':80, 'Aug':500, 'Sept':600}\n",
    "\n",
    "\n",
    "time_sum = sum(time.values())\n",
    "total_hrs = a/60\n",
    "\n",
    "speed_avg = sum(speed.values())/len(speed)\n",
    "round(speed_avg)\n",
    "\n",
    "total_pace = total_hrs*speed_avg\n",
    "\n",
    "print(f' Годин в подорожі: {total_hrs}\\n Середня швидкість: {round(speed_avg)}\\n Загальний шлях: {total_pace}')\n"
   ]
  },
  {
   "cell_type": "code",
   "execution_count": null,
   "id": "ce003778",
   "metadata": {},
   "outputs": [],
   "source": [
    "# Напишіть функцію, що генерує пароль заданої довжини "
   ]
  }
 ],
 "metadata": {
  "kernelspec": {
   "display_name": "Python 3",
   "language": "python",
   "name": "python3"
  },
  "language_info": {
   "codemirror_mode": {
    "name": "ipython",
    "version": 3
   },
   "file_extension": ".py",
   "mimetype": "text/x-python",
   "name": "python",
   "nbconvert_exporter": "python",
   "pygments_lexer": "ipython3",
   "version": "3.8.10"
  }
 },
 "nbformat": 4,
 "nbformat_minor": 5
}
