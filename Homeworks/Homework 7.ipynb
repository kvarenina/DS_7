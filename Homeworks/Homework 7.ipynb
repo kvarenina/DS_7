{
 "cells": [
  {
   "cell_type": "markdown",
   "id": "19614ab7",
   "metadata": {},
   "source": [
    "**Завдання 1**  \n",
    "Напишіть функцію new_power(a, b), де a,b - цілі числа. Функція повинна знаходити a**b та повертати стрічку:  \n",
    "\t\"Число a  в степені b = a**b\"  \n",
    "\tВиведіть результат функції на екран"
   ]
  },
  {
   "cell_type": "code",
   "execution_count": 1,
   "id": "9b170e96",
   "metadata": {},
   "outputs": [
    {
     "name": "stdout",
     "output_type": "stream",
     "text": [
      "3\n",
      "4\n",
      "Число 3 в степені 4 = 81\n"
     ]
    }
   ],
   "source": [
    "a = int(input())\n",
    "b = int(input())\n",
    "\n",
    "def new_power(a, b):\n",
    "    res = a**b\n",
    "    print(f\"Число {a} в степені {b} = {res}\")\n",
    "\n",
    "new_power(a,b)"
   ]
  },
  {
   "cell_type": "markdown",
   "id": "02283829",
   "metadata": {},
   "source": [
    "**Завдання 2**  \n",
    "Напишіть функцію new_sort(*args, r = False), що приймає числа та деякий необов'язковий параметр \"r\" (Якщо True - то сортування в порядку спадання)\n",
    "\tФункція повертає відсортований список"
   ]
  },
  {
   "cell_type": "code",
   "execution_count": 16,
   "id": "58684432",
   "metadata": {},
   "outputs": [
    {
     "name": "stdout",
     "output_type": "stream",
     "text": [
      "Enter numbers: 4 5 1 8 2 9 \n",
      "Enter True or False: False\n"
     ]
    },
    {
     "data": {
      "text/plain": [
       "['1', '2', '4', '5', '8', '9']"
      ]
     },
     "execution_count": 16,
     "metadata": {},
     "output_type": "execute_result"
    }
   ],
   "source": [
    "args = input('Enter numbers: ').split()\n",
    "r = str(input('Enter True or False: '))\n",
    "\n",
    "def new_sort(args, r):\n",
    "    if r=='True':\n",
    "        return sorted(args, reverse=True)\n",
    "    if r=='False':\n",
    "        return sorted(args)\n",
    "    \n",
    "new_sort(args, r)    \n",
    "\n",
    "#чому не сортує двузначні і більше значення?"
   ]
  },
  {
   "cell_type": "markdown",
   "id": "38acdf86",
   "metadata": {},
   "source": [
    "**Завдання 3**  \n",
    "Напишіть функцію fac(N), що повертає факторіал числа N. \n",
    "\tФакторіал числа це добуток чисел від 1 до N\t(N! = 1*2*3*...*N)\n",
    "\tРеалізуйте дану функцію двома способами: \n",
    "\t\t- за допомогою циклу\n",
    "\t\t- за допомогою рекурсії\n",
    "\n",
    "\tНе використовуйте бібліотеку math :)"
   ]
  },
  {
   "cell_type": "code",
   "execution_count": 6,
   "id": "4d930540",
   "metadata": {},
   "outputs": [
    {
     "name": "stdout",
     "output_type": "stream",
     "text": [
      "6\n"
     ]
    },
    {
     "data": {
      "text/plain": [
       "720"
      ]
     },
     "execution_count": 6,
     "metadata": {},
     "output_type": "execute_result"
    }
   ],
   "source": [
    "N = int(input())\n",
    "\n",
    "#циклом for\n",
    "def fac(N):\n",
    "    fact = 1\n",
    "    for i in range(1, N+1):\n",
    "        fact = fact*i\n",
    "    return fact\n",
    "fac(N)\n"
   ]
  },
  {
   "cell_type": "code",
   "execution_count": 5,
   "id": "01302b2b",
   "metadata": {},
   "outputs": [
    {
     "name": "stdout",
     "output_type": "stream",
     "text": [
      "12\n"
     ]
    },
    {
     "data": {
      "text/plain": [
       "479001600"
      ]
     },
     "execution_count": 5,
     "metadata": {},
     "output_type": "execute_result"
    }
   ],
   "source": [
    "N = int(input())\n",
    "\n",
    "#рекурсією\n",
    "def fac(N):\n",
    "    if N == 1:\n",
    "        return N\n",
    "    else:\n",
    "        return N*fac(N-1)\n",
    "\n",
    "fac(N)"
   ]
  },
  {
   "cell_type": "markdown",
   "id": "bf076089",
   "metadata": {},
   "source": [
    "**Завдання 4**   \n",
    "\tНехай вам задано шахову дошку розміром 8х8. \n",
    "\tВ Python її можете задати як список в списку заповнену нулями.  \n",
    "\tПотрібно на ній розмістити 8 ферзів(королева або дама) таким чином, щоб жоден із них не бив один одного.\n",
    "\tВиведіть всі можливі варіанти.\n",
    "\t\n",
    "\tОдин із варіантів відповіді:\n",
    "\t[[0 0 0 1 0 0 0 0]\n",
    "\t [0 0 0 0 0 0 1 0]\n",
    "\t [0 0 1 0 0 0 0 0]\n",
    "\t [0 0 0 0 0 0 0 1]\n",
    "\t [0 1 0 0 0 0 0 0]\n",
    "\t [0 0 0 0 1 0 0 0]\n",
    "\t [1 0 0 0 0 0 0 0]\n",
    "\t [0 0 0 0 0 1 0 0]]"
   ]
  },
  {
   "cell_type": "code",
   "execution_count": null,
   "id": "d0f0c65b",
   "metadata": {},
   "outputs": [],
   "source": []
  }
 ],
 "metadata": {
  "kernelspec": {
   "display_name": "Python 3",
   "language": "python",
   "name": "python3"
  },
  "language_info": {
   "codemirror_mode": {
    "name": "ipython",
    "version": 3
   },
   "file_extension": ".py",
   "mimetype": "text/x-python",
   "name": "python",
   "nbconvert_exporter": "python",
   "pygments_lexer": "ipython3",
   "version": "3.8.10"
  }
 },
 "nbformat": 4,
 "nbformat_minor": 5
}
