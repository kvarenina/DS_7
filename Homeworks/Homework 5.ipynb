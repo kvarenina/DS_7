{
 "cells": [
  {
   "cell_type": "markdown",
   "id": "e07f8d96",
   "metadata": {},
   "source": [
    "**Завдання 1**  \n",
    "\tКористувач вводить назву файлу(стрічка). Якщо назва допустима, то створіть пустий файл з цією назвою.\n",
    "\tЯкщо ні - виведіть повідомлення \"Назва недопустима\"\n",
    "\t(використайте обробку помилок try-except)"
   ]
  },
  {
   "cell_type": "code",
   "execution_count": 3,
   "id": "10a9b563",
   "metadata": {},
   "outputs": [
    {
     "name": "stdout",
     "output_type": "stream",
     "text": [
      "superfile\n"
     ]
    }
   ],
   "source": [
    "f = str(input())\n",
    "\n",
    "if len(f) > 3:\n",
    "    open( f, 'w', encoding='UTF-8')\n",
    "else:\n",
    "    print('Назва неприпустима')"
   ]
  },
  {
   "cell_type": "markdown",
   "id": "947d8cd6",
   "metadata": {},
   "source": [
    "**Завдання 2**  \n",
    "\tДано два цілих числа N, K\n",
    "\tСтворіть текстовий файл. Запишіть у нього N рядків, кожна із яких складається із K символів \"*\" (зірочка)"
   ]
  },
  {
   "cell_type": "code",
   "execution_count": 10,
   "id": "4cf25ad8",
   "metadata": {},
   "outputs": [],
   "source": [
    "N = 3\n",
    "K = 8\n",
    "        \n",
    "with open('superfile', 'w') as f:\n",
    "    for i in range(N):\n",
    "        f.write('*'*K + '\\n')"
   ]
  },
  {
   "cell_type": "markdown",
   "id": "387cb0dc",
   "metadata": {},
   "source": [
    "**Завдання 3**  \n",
    "\tУ вас є файл із текстом.\n",
    "\tВидаліть перший рядок із файлу."
   ]
  },
  {
   "cell_type": "code",
   "execution_count": 12,
   "id": "c49291a8",
   "metadata": {},
   "outputs": [],
   "source": [
    "with open('superfile', 'w') as f:\n",
    "    f.writelines(data[1:])"
   ]
  },
  {
   "cell_type": "markdown",
   "id": "bec016df",
   "metadata": {},
   "source": [
    "**Завдання 4**  \n",
    "\tУ вас є файл із текстом.\n",
    "\tУ кожному рядку даного файлу видаліть K(натуральне число) символів."
   ]
  },
  {
   "cell_type": "code",
   "execution_count": null,
   "id": "4791d45f",
   "metadata": {},
   "outputs": [],
   "source": []
  },
  {
   "cell_type": "markdown",
   "id": "3ad71919",
   "metadata": {},
   "source": [
    "**Завдання 5**  \n",
    "\tНапишіть інструкції, що викликають наступні помилки:  \n",
    "\t\t- SyntaxError\n",
    "\t\t- IndentationError\n",
    "\t\t- NameError\n",
    "\t\t- IndexError\n",
    "\t\t- KeyError\n",
    "\t\t- ImportError\n",
    "\t\t- AttirbuteError\n",
    "\t\t- ZeroDivisionError\n",
    "\t\t- RuntimeError"
   ]
  },
  {
   "cell_type": "code",
   "execution_count": null,
   "id": "f337aa95",
   "metadata": {},
   "outputs": [],
   "source": []
  }
 ],
 "metadata": {
  "kernelspec": {
   "display_name": "Python 3",
   "language": "python",
   "name": "python3"
  },
  "language_info": {
   "codemirror_mode": {
    "name": "ipython",
    "version": 3
   },
   "file_extension": ".py",
   "mimetype": "text/x-python",
   "name": "python",
   "nbconvert_exporter": "python",
   "pygments_lexer": "ipython3",
   "version": "3.8.10"
  }
 },
 "nbformat": 4,
 "nbformat_minor": 5
}
