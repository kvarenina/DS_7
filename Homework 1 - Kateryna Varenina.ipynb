{
 "cells": [
  {
   "cell_type": "markdown",
   "id": "aa197c27",
   "metadata": {},
   "source": [
    "# 1. This is my first notebook\n",
    "* It has headers and paragraphs\n",
    "* It has code and formulas\n",
    "* It has link to my [Github](https://github.com/kvarenina/DS_7) project profile."
   ]
  },
  {
   "cell_type": "markdown",
   "id": "7a74000f",
   "metadata": {},
   "source": [
    "# Heading 1\n",
    "\n",
    "## Heading 2 \n",
    "some grey colored text:\n",
    ">\"If you want to go fast, go alone. If you want to far, go together!\"\n",
    "\n",
    "And this paragraph is about something important. Even math:\n",
    "$$y_{sub}=\\sqrt({x_{sub})}$$\n",
    "\n",
    "Or python code example:"
   ]
  },
  {
   "cell_type": "code",
   "execution_count": 11,
   "id": "3a9c2a42",
   "metadata": {},
   "outputs": [
    {
     "name": "stdout",
     "output_type": "stream",
     "text": [
      "560\n"
     ]
    }
   ],
   "source": [
    "a = 260\n",
    "b = 40\n",
    "b += a\n",
    "print(a+b)"
   ]
  },
  {
   "cell_type": "markdown",
   "id": "594f2ace",
   "metadata": {},
   "source": [
    "Here is the sample mean:\n",
    "$$\\overset{-}{y}=\\frac{1}{n}\\sum_{i=1}^{n}y_{i}$$"
   ]
  },
  {
   "cell_type": "markdown",
   "id": "4fb358c3",
   "metadata": {},
   "source": [
    "Here is the sample varience:\n",
    "$$\\sigma_{}^2=\\frac{\\sum_{i=1}^{n}(y_{i}-\\overset{-}{y})^2}{n-1}$$"
   ]
  },
  {
   "cell_type": "markdown",
   "id": "7c828db2",
   "metadata": {},
   "source": [
    "Here is the sample standart deviation:\n",
    "$$\\sigma_{}=\\sqrt{\\frac{\\sum_{i=1}^{n}(y_{i}-\\overset{-}{y})^2}{n-1}}$$"
   ]
  }
 ],
 "metadata": {
  "kernelspec": {
   "display_name": "Python 3",
   "language": "python",
   "name": "python3"
  },
  "language_info": {
   "codemirror_mode": {
    "name": "ipython",
    "version": 3
   },
   "file_extension": ".py",
   "mimetype": "text/x-python",
   "name": "python",
   "nbconvert_exporter": "python",
   "pygments_lexer": "ipython3",
   "version": "3.8.10"
  }
 },
 "nbformat": 4,
 "nbformat_minor": 5
}
