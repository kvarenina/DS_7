{
 "cells": [
  {
   "cell_type": "markdown",
   "metadata": {},
   "source": [
    "___\n",
    "\n",
    "<a href='https://mainacademy.ua/'> <img src='https://mainacademy.ua/wp-content/uploads/2019/03/logo-main.png' alt = 'Хмм, щось з інтернетом'/></a>\n",
    "___\n",
    "\n",
    "# Module 2: Basic Python"
   ]
  },
  {
   "cell_type": "markdown",
   "metadata": {},
   "source": [
    "## Lab work 2.1\n",
    "\n"
   ]
  },
  {
   "cell_type": "markdown",
   "metadata": {},
   "source": [
    "#### Мета: \n",
    "\n",
    "* навчитися працювати із основними типами та структурами даних в Python;\n",
    "* ознайомитися із базовими алгоритмами;"
   ]
  },
  {
   "cell_type": "markdown",
   "metadata": {},
   "source": [
    "#### Завдання 1"
   ]
  },
  {
   "cell_type": "markdown",
   "metadata": {},
   "source": [
    "Обчислити площу трикутника, коли відома сторона та проведена висота до неї"
   ]
  },
  {
   "cell_type": "code",
   "execution_count": 1,
   "metadata": {},
   "outputs": [
    {
     "name": "stdout",
     "output_type": "stream",
     "text": [
      "Введіть сторону трикутника:\n",
      "6\n",
      "Введіть висоту трикутника:\n",
      "8\n",
      "Площа трикутника = 24 см\n"
     ]
    }
   ],
   "source": [
    "a = int(input('Введіть сторону трикутника:\\n'))\n",
    "h = int(input('Введіть висоту трикутника:\\n'))\n",
    "S = int((a*h)/2)\n",
    "print('Площа трикутника =',S,'см')\n",
    "\n"
   ]
  },
  {
   "cell_type": "markdown",
   "metadata": {},
   "source": [
    "#### Завдання 2"
   ]
  },
  {
   "cell_type": "markdown",
   "metadata": {},
   "source": [
    "Дано трицифрове число. Виведіть окремо кожну цифру числа та суми цифр число\n",
    "\n",
    "Реалізуйте завдання двома способами (використовуючи стрічки та оператори `%`, `//`)"
   ]
  },
  {
   "cell_type": "code",
   "execution_count": 39,
   "metadata": {},
   "outputs": [
    {
     "name": "stdout",
     "output_type": "stream",
     "text": [
      "Введіть трицифрове число:123\n",
      "Числа 3 1 2\n",
      "Сума цифр = 6\n"
     ]
    }
   ],
   "source": [
    "N = int(input('Введіть трицифрове число:'))\n",
    "first = N % 10\n",
    "second = N // 100\n",
    "third = N // 10 % 10\n",
    "print('Числа', first,second,third)\n",
    "print('Сума цифр =', first + second + third) \n"
   ]
  },
  {
   "cell_type": "code",
   "execution_count": 36,
   "metadata": {},
   "outputs": [
    {
     "name": "stdout",
     "output_type": "stream",
     "text": [
      "Введіть трицифрове число:123\n",
      "Числа 1 2 3\n",
      "Сума цифр = 6\n"
     ]
    }
   ],
   "source": [
    "N = str(input('Введіть трицифрове число:'))\n",
    "first = int(N[0])\n",
    "second = int(N[1])\n",
    "third = int(N[2])\n",
    "print('Числа', first,second,third)\n",
    "print('Сума цифр =',first + second + third) \n",
    " \n",
    "\n"
   ]
  },
  {
   "cell_type": "markdown",
   "metadata": {},
   "source": [
    "#### Завдання 3"
   ]
  },
  {
   "cell_type": "markdown",
   "metadata": {},
   "source": [
    "Дано речення (стрічка). \n",
    "* Розбийте речення по словах і помістіть їх у список. \n",
    "* Виведіть кількість слів у речені.\n",
    "* Утворіть нове речення, що складається з першого та останнього слова із початкового речення."
   ]
  },
  {
   "cell_type": "code",
   "execution_count": 66,
   "metadata": {},
   "outputs": [],
   "source": [
    "sentence = 'My favourite tutor in academy is Ihor'"
   ]
  },
  {
   "cell_type": "code",
   "execution_count": 67,
   "metadata": {},
   "outputs": [
    {
     "name": "stdout",
     "output_type": "stream",
     "text": [
      "['My', 'favourite', 'tutor', 'in', 'academy', 'is', 'Ihor']\n",
      "<class 'list'>\n"
     ]
    }
   ],
   "source": [
    "split_sentence = sentence.split()\n",
    "print(split_sentence)\n",
    "print(type(split_sentence))"
   ]
  },
  {
   "cell_type": "code",
   "execution_count": 68,
   "metadata": {},
   "outputs": [
    {
     "name": "stdout",
     "output_type": "stream",
     "text": [
      "37\n"
     ]
    }
   ],
   "source": [
    "#sentence = 'My favourite tutor in academy is Ihor'\n",
    "print(len(sentence))"
   ]
  },
  {
   "cell_type": "code",
   "execution_count": 71,
   "metadata": {},
   "outputs": [
    {
     "name": "stdout",
     "output_type": "stream",
     "text": [
      "New sentence is from words My and Ihor\n"
     ]
    }
   ],
   "source": [
    "print('New sentence is from words', split_sentence[0], 'and', split_sentence[6])"
   ]
  },
  {
   "cell_type": "markdown",
   "metadata": {},
   "source": [
    "#### Завдання 4"
   ]
  },
  {
   "cell_type": "markdown",
   "metadata": {},
   "source": [
    "Перевірте, чи справджується формула: $$ sin^2x + cos^2x = 1$$\n",
    "\n",
    "Напишіть код, що реалізує цю формулу. Нагадую, що тригонометричні функції приймають аргументи в радіанній мірі"
   ]
  },
  {
   "cell_type": "code",
   "execution_count": 20,
   "metadata": {},
   "outputs": [
    {
     "name": "stdout",
     "output_type": "stream",
     "text": [
      "Enter radius:30\n",
      "Sin = 0.5 \t Cos = 0.87\n",
      "Result = 1\n",
      "Equation is true\n"
     ]
    }
   ],
   "source": [
    "import math\n",
    "x = int(input('Enter radius:'))\n",
    "angle_rad = math.radians(x)\n",
    "sin_of_x = round(math.sin(angle_rad),2)\n",
    "cos_of_x = round(math.cos(angle_rad),2)\n",
    "print('Sin =', sin_of_x,'\\t','Cos =',cos_of_x)\n",
    "res = round((sin_of_x)**2+(cos_of_x)**2)\n",
    "print('Result =',res)\n",
    "if res == 1:\n",
    "    print('Equation is true')\n",
    "else:\n",
    "    print('Equation is false') \n"
   ]
  },
  {
   "cell_type": "markdown",
   "metadata": {},
   "source": [
    "#### Завдання 5"
   ]
  },
  {
   "cell_type": "markdown",
   "metadata": {},
   "source": [
    "Напишіть програму для обчислення коренів квадратного рівняння.\n",
    "\n",
    "Нагадую, що `n`-го степеня має `n` коренів. (Корені можуть бути комплексні)"
   ]
  },
  {
   "cell_type": "code",
   "execution_count": 63,
   "metadata": {},
   "outputs": [
    {
     "name": "stdout",
     "output_type": "stream",
     "text": [
      "2\n",
      "4\n",
      "6\n",
      "Discriminant: -42\n",
      "Two complex roots: -4+6.48074j -4-6.48074j\n"
     ]
    }
   ],
   "source": [
    "import math\n",
    "import cmath\n",
    "a = int(input())\n",
    "b = int(input())\n",
    "c = int(input())\n",
    "discr = b^2-4*a*c\n",
    "#D = math.sqrt(discr)\n",
    "print('Discriminant:',discr)\n",
    "if discr > 0:\n",
    "    root1 = (-b+math.sqrt(discr))/2*a\n",
    "    root2 = (-b-math.sqrt(discr))/2*a    \n",
    "    print('Two roots:\\n',root1,root2)\n",
    "elif discr == 0:\n",
    "    print('No roots')\n",
    "elif discr < 0:\n",
    "    root1 = (-b+cmath.sqrt(discr))/2*a\n",
    "    root2 = (-b-cmath.sqrt(discr))/2*a  \n",
    "    print('Two complex roots:',\"{:g}\".format(root1), \"{:g}\".format(root2))\n",
    "    "
   ]
  },
  {
   "cell_type": "markdown",
   "metadata": {},
   "source": [
    "#### Завдання 6"
   ]
  },
  {
   "cell_type": "markdown",
   "metadata": {},
   "source": [
    "Напишіть програму, що виводить речення: <i>\"Діаметр планети `Planet` дорівнює` Diament`\"</i>, \n",
    "\n",
    "де `Planet` та `Diament` вводить користувач"
   ]
  },
  {
   "cell_type": "code",
   "execution_count": 3,
   "metadata": {},
   "outputs": [
    {
     "name": "stdout",
     "output_type": "stream",
     "text": [
      "Введіть планету:\n",
      "Saturn\n",
      "Введіть діаметер:\n",
      "3883833\n",
      "Діаметер планети Saturn дорівнює 3883833.\n"
     ]
    }
   ],
   "source": [
    "\n",
    "Planet = input('Введіть планету:\\n')\n",
    "Diameter = input('Введіть діаметер:\\n')\n",
    "print(f'Діаметер планети {Planet} дорівнює {Diameter}.')"
   ]
  },
  {
   "cell_type": "code",
   "execution_count": null,
   "metadata": {},
   "outputs": [],
   "source": []
  }
 ],
 "metadata": {
  "kernelspec": {
   "display_name": "Python 3",
   "language": "python",
   "name": "python3"
  },
  "language_info": {
   "codemirror_mode": {
    "name": "ipython",
    "version": 3
   },
   "file_extension": ".py",
   "mimetype": "text/x-python",
   "name": "python",
   "nbconvert_exporter": "python",
   "pygments_lexer": "ipython3",
   "version": "3.8.10"
  }
 },
 "nbformat": 4,
 "nbformat_minor": 2
}
